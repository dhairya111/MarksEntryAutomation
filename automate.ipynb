{
 "cells": [
  {
   "cell_type": "code",
   "execution_count": 132,
   "id": "9f491fe7",
   "metadata": {},
   "outputs": [],
   "source": [
    "import requests\n",
    "import time\n",
    "from bs4 import BeautifulSoup"
   ]
  },
  {
   "cell_type": "code",
   "execution_count": 133,
   "id": "1053537f",
   "metadata": {
    "scrolled": true
   },
   "outputs": [
    {
     "name": "stderr",
     "output_type": "stream",
     "text": [
      "Problem reading geckodriver versions: error sending request for url (https://raw.githubusercontent.com/SeleniumHQ/selenium/trunk/common/geckodriver/geckodriver-support.json): error trying to connect: tcp connect error: A connection attempt failed because the connected party did not properly respond after a period of time, or established connection failed because connected host has failed to respond. (os error 10060). Using latest geckodriver version\n"
     ]
    }
   ],
   "source": [
    "from selenium import webdriver\n",
    "from selenium.webdriver.chrome.service import Service\n",
    "from selenium.webdriver.common.keys import Keys\n",
    "from selenium.webdriver.support.ui import Select\n",
    "\n",
    "driver = webdriver.Firefox()"
   ]
  },
  {
   "cell_type": "code",
   "execution_count": 134,
   "id": "f7a4ae31",
   "metadata": {},
   "outputs": [],
   "source": [
    "from selenium.webdriver.common.by import By\n",
    "from selenium.webdriver.support.ui import WebDriverWait\n",
    "from selenium.webdriver.support import expected_conditions as EC"
   ]
  },
  {
   "cell_type": "code",
   "execution_count": 135,
   "id": "c38d518a",
   "metadata": {},
   "outputs": [],
   "source": [
    "driver.get(\"https://www.hackerrank.com/auth/login\")\n",
    "username = driver.find_element(By.ID,\"input-1\")\n",
    "password = driver.find_element(By.ID,\"input-2\")\n",
    "username.send_keys(\"202311011@daiict.ac.in\")\n",
    "password.send_keys(\"EnterPassword\")\n",
    "elem = driver.find_element(By.XPATH, '//span[contains(text(),\"Log In\")]')\n",
    "elem.click()"
   ]
  },
  {
   "cell_type": "code",
   "execution_count": 136,
   "id": "8d6589d3",
   "metadata": {},
   "outputs": [],
   "source": [
    "driver.get(\"https://www.hackerrank.com/contests/it113-lab-assignment-8/leaderboard\")"
   ]
  },
  {
   "cell_type": "code",
   "execution_count": 137,
   "id": "0f8ad99c",
   "metadata": {},
   "outputs": [],
   "source": [
    "element3 = WebDriverWait(driver, 80).until(\n",
    "    EC.element_to_be_clickable((By.XPATH, '//*[@id=\"s2id_pagination-length\"]'))\n",
    ")\n",
    "element3.click()"
   ]
  },
  {
   "cell_type": "code",
   "execution_count": 138,
   "id": "326cd754",
   "metadata": {
    "scrolled": false
   },
   "outputs": [],
   "source": [
    "element4 = WebDriverWait(driver, 80).until(\n",
    "    EC.element_to_be_clickable((By.XPATH, '//div[contains(text(),\"100\")]'))\n",
    ")\n",
    "element4.click()"
   ]
  },
  {
   "cell_type": "code",
   "execution_count": 139,
   "id": "54f4723b",
   "metadata": {},
   "outputs": [],
   "source": [
    "time.sleep(20)\n",
    "page_src1 = driver.page_source"
   ]
  },
  {
   "cell_type": "code",
   "execution_count": 140,
   "id": "1f229ad8",
   "metadata": {},
   "outputs": [],
   "source": [
    "time.sleep(20)\n",
    "driver.get(\"https://www.hackerrank.com/contests/it113-lab-assignment-8/leaderboard/2\")\n"
   ]
  },
  {
   "cell_type": "code",
   "execution_count": 141,
   "id": "e7f61121",
   "metadata": {},
   "outputs": [],
   "source": [
    "time.sleep(20)\n",
    "page_src2 = driver.page_source"
   ]
  },
  {
   "cell_type": "code",
   "execution_count": 142,
   "id": "5c684da4",
   "metadata": {},
   "outputs": [],
   "source": [
    "time.sleep(20)\n",
    "driver.get(\"https://www.hackerrank.com/contests/it113-lab-assignment-8/leaderboard/3\")\n"
   ]
  },
  {
   "cell_type": "code",
   "execution_count": 143,
   "id": "d63b7c11",
   "metadata": {},
   "outputs": [],
   "source": [
    "time.sleep(20)\n",
    "page_src3 = driver.page_source"
   ]
  },
  {
   "cell_type": "code",
   "execution_count": 144,
   "id": "947abae9",
   "metadata": {},
   "outputs": [],
   "source": [
    "time.sleep(20)\n",
    "driver.get(\"https://www.hackerrank.com/contests/it113-lab-assignment-8/leaderboard/4\")\n"
   ]
  },
  {
   "cell_type": "code",
   "execution_count": 145,
   "id": "18f017da",
   "metadata": {},
   "outputs": [],
   "source": [
    "time.sleep(20)\n",
    "page_src4 = driver.page_source"
   ]
  },
  {
   "cell_type": "code",
   "execution_count": 146,
   "id": "3e3cfe2c",
   "metadata": {},
   "outputs": [],
   "source": [
    "driver.close()"
   ]
  },
  {
   "cell_type": "code",
   "execution_count": 147,
   "id": "268af606",
   "metadata": {},
   "outputs": [],
   "source": [
    "soup1 = BeautifulSoup(page_src1,features=\"html.parser\")\n",
    "soup2 = BeautifulSoup(page_src2,features=\"html.parser\")\n",
    "soup3 = BeautifulSoup(page_src3,features=\"html.parser\")\n",
    "soup4 = BeautifulSoup(page_src4,features=\"html.parser\")"
   ]
  },
  {
   "cell_type": "code",
   "execution_count": 148,
   "id": "4781ac34",
   "metadata": {},
   "outputs": [],
   "source": [
    "ledrs1 = soup1.find(class_ = \"table-wrap\")\n",
    "ledrs2 = soup2.find(class_ = \"table-wrap\")\n",
    "ledrs3 = soup3.find(class_ = \"table-wrap\")\n",
    "ledrs4 = soup4.find(class_ = \"table-wrap\")"
   ]
  },
  {
   "cell_type": "code",
   "execution_count": 150,
   "id": "5f3b9148",
   "metadata": {},
   "outputs": [],
   "source": [
    "var1 = ledrs1.find_all(\"a\",class_=\"leaderboard-hackername\")\n",
    "var2 = ledrs2.find_all(\"a\",class_=\"leaderboard-hackername\")\n",
    "var3 = ledrs3.find_all(\"a\",class_=\"leaderboard-hackername\")\n",
    "var4 = ledrs4.find_all(\"a\",class_=\"leaderboard-hackername\")"
   ]
  },
  {
   "cell_type": "code",
   "execution_count": 152,
   "id": "24c1882f",
   "metadata": {},
   "outputs": [],
   "source": [
    "marks1 = ledrs1.find_all(\"div\",class_=\"span-flex-3\")\n",
    "marks2 = ledrs2.find_all(\"div\",class_=\"span-flex-3\")\n",
    "marks3 = ledrs3.find_all(\"div\",class_=\"span-flex-3\")\n",
    "marks4 = ledrs4.find_all(\"div\",class_=\"span-flex-3\")"
   ]
  },
  {
   "cell_type": "code",
   "execution_count": 154,
   "id": "0bb59e36",
   "metadata": {},
   "outputs": [],
   "source": [
    "RollList = []\n",
    "for student in var1:\n",
    "    RollNo = student.contents[0]\n",
    "    RollNo = RollNo.replace(\" \",\"\")\n",
    "    RollNo = RollNo.replace(\"\\n\",\"\")\n",
    "    RollNo = RollNo[1:]\n",
    "    RollList.append(RollNo)\n",
    "    \n",
    "    \n",
    "for student in var2:\n",
    "    RollNo = student.contents[0]\n",
    "    RollNo = RollNo.replace(\" \",\"\")\n",
    "    RollNo = RollNo.replace(\"\\n\",\"\")\n",
    "    RollNo = RollNo[1:]\n",
    "    RollList.append(RollNo)\n",
    "    \n",
    "for student in var3:\n",
    "    RollNo = student.contents[0]\n",
    "    RollNo = RollNo.replace(\" \",\"\")\n",
    "    RollNo = RollNo.replace(\"\\n\",\"\")\n",
    "    RollNo = RollNo[1:]\n",
    "    RollList.append(RollNo)\n",
    "    \n",
    "for student in var4:\n",
    "    RollNo = student.contents[0]\n",
    "    RollNo = RollNo.replace(\" \",\"\")\n",
    "    RollNo = RollNo.replace(\"\\n\",\"\")\n",
    "    RollNo = RollNo[1:]\n",
    "    RollList.append(RollNo)"
   ]
  },
  {
   "cell_type": "code",
   "execution_count": 155,
   "id": "8eabebf3",
   "metadata": {},
   "outputs": [
    {
     "data": {
      "text/plain": [
       "303"
      ]
     },
     "execution_count": 155,
     "metadata": {},
     "output_type": "execute_result"
    }
   ],
   "source": [
    "len(RollList)"
   ]
  },
  {
   "cell_type": "code",
   "execution_count": 156,
   "id": "730c833a",
   "metadata": {},
   "outputs": [],
   "source": [
    "MarkList = []\n",
    "for mark in marks1:\n",
    "    Mark = mark.text\n",
    "    Mark = Mark.replace(\" \",\"\")\n",
    "    Mark = Mark.replace(\"\\n\",\"\")\n",
    "    if Mark:\n",
    "        MarkList.append(Mark)\n",
    "    \n",
    "    \n",
    "for mark in marks2:\n",
    "    Mark = mark.text\n",
    "    Mark = Mark.replace(\" \",\"\")\n",
    "    Mark = Mark.replace(\"\\n\",\"\")\n",
    "    if Mark:\n",
    "        MarkList.append(Mark)\n",
    "    \n",
    "for mark in marks3:\n",
    "    Mark = mark.text\n",
    "    Mark = Mark.replace(\" \",\"\")\n",
    "    Mark = Mark.replace(\"\\n\",\"\")\n",
    "    if Mark:\n",
    "        MarkList.append(Mark)\n",
    "    \n",
    "for mark in marks4:\n",
    "    Mark = mark.text\n",
    "    Mark = Mark.replace(\" \",\"\")\n",
    "    Mark = Mark.replace(\"\\n\",\"\")\n",
    "    if Mark:\n",
    "        MarkList.append(Mark)"
   ]
  },
  {
   "cell_type": "code",
   "execution_count": 157,
   "id": "7bf88432",
   "metadata": {},
   "outputs": [],
   "source": [
    "MarkList.remove('Score')\n",
    "MarkList.remove('Country')\n",
    "MarkList.remove('Score')\n",
    "MarkList.remove('Country')\n",
    "MarkList.remove('Score')\n",
    "MarkList.remove('Country')\n",
    "MarkList.remove('Score')\n",
    "MarkList.remove('Country')"
   ]
  },
  {
   "cell_type": "code",
   "execution_count": 158,
   "id": "68bb178b",
   "metadata": {},
   "outputs": [
    {
     "name": "stdout",
     "output_type": "stream",
     "text": [
      "aiminhadvani009\n"
     ]
    }
   ],
   "source": [
    "l = []\n",
    "for i in range(len(RollList)):\n",
    "    if not RollList[i].isdigit():\n",
    "        l.append(i)\n",
    "        \n",
    "for j in range(len(l)):        \n",
    "    print(RollList[l[j]])\n",
    "    del RollList[l[j]]\n",
    "    del MarkList[l[j]]\n",
    "        \n",
    "        "
   ]
  },
  {
   "cell_type": "code",
   "execution_count": 159,
   "id": "c2754ed7",
   "metadata": {},
   "outputs": [
    {
     "data": {
      "text/plain": [
       "[217]"
      ]
     },
     "execution_count": 159,
     "metadata": {},
     "output_type": "execute_result"
    }
   ],
   "source": [
    "l"
   ]
  },
  {
   "cell_type": "code",
   "execution_count": 160,
   "id": "38b02710",
   "metadata": {},
   "outputs": [
    {
     "data": {
      "text/plain": [
       "302"
      ]
     },
     "execution_count": 160,
     "metadata": {},
     "output_type": "execute_result"
    }
   ],
   "source": [
    "len(MarkList)"
   ]
  },
  {
   "cell_type": "markdown",
   "id": "0bbb4467",
   "metadata": {},
   "source": [
    "for i in range(3):\n",
    "    RollList.pop()\n",
    "    MarkList.pop()"
   ]
  },
  {
   "cell_type": "code",
   "execution_count": 161,
   "id": "213a1378",
   "metadata": {},
   "outputs": [
    {
     "data": {
      "text/plain": [
       "True"
      ]
     },
     "execution_count": 161,
     "metadata": {},
     "output_type": "execute_result"
    }
   ],
   "source": [
    "s='140.00'\n",
    "s.replace('.','',1).isdigit()"
   ]
  },
  {
   "cell_type": "code",
   "execution_count": 162,
   "id": "76b78835",
   "metadata": {},
   "outputs": [],
   "source": [
    "Roll_List = [eval(i) for i in RollList]\n",
    "Mark_List = [eval(i) for i in MarkList]"
   ]
  },
  {
   "cell_type": "code",
   "execution_count": 163,
   "id": "b49d907b",
   "metadata": {},
   "outputs": [],
   "source": [
    "from openpyxl import Workbook,load_workbook"
   ]
  },
  {
   "cell_type": "code",
   "execution_count": 164,
   "id": "d37191e4",
   "metadata": {},
   "outputs": [],
   "source": [
    "wb = load_workbook('CollegeData.xlsx')"
   ]
  },
  {
   "cell_type": "code",
   "execution_count": 165,
   "id": "e560c4a7",
   "metadata": {},
   "outputs": [
    {
     "data": {
      "text/plain": [
       "['Sheet1']"
      ]
     },
     "execution_count": 165,
     "metadata": {},
     "output_type": "execute_result"
    }
   ],
   "source": [
    "wb.sheetnames"
   ]
  },
  {
   "cell_type": "code",
   "execution_count": 166,
   "id": "846b04c5",
   "metadata": {},
   "outputs": [],
   "source": [
    "sheet = wb['Sheet1']"
   ]
  },
  {
   "cell_type": "code",
   "execution_count": 167,
   "id": "b77245c7",
   "metadata": {},
   "outputs": [
    {
     "data": {
      "text/plain": [
       "<Worksheet \"Sheet1\">"
      ]
     },
     "execution_count": 167,
     "metadata": {},
     "output_type": "execute_result"
    }
   ],
   "source": [
    "sheet"
   ]
  },
  {
   "cell_type": "code",
   "execution_count": 168,
   "id": "b6d5729a",
   "metadata": {},
   "outputs": [
    {
     "data": {
      "text/plain": [
       "(201901470, 'Assignment 5 Marks')"
      ]
     },
     "execution_count": 168,
     "metadata": {},
     "output_type": "execute_result"
    }
   ],
   "source": [
    "sheet['B2'].value,sheet['F1'].value"
   ]
  },
  {
   "cell_type": "code",
   "execution_count": 172,
   "id": "9c613791",
   "metadata": {},
   "outputs": [],
   "source": [
    "for i in range(len(Roll_List)):\n",
    "    for row in range(2, sheet.max_row + 1):\n",
    "        if Roll_List[i] == sheet['B' + str(row)].value:\n",
    "            sheet['F'+ str(row)] = round(Mark_List[i],2)\n",
    "            "
   ]
  },
  {
   "cell_type": "code",
   "execution_count": 173,
   "id": "1b3e30a8",
   "metadata": {},
   "outputs": [],
   "source": [
    "wb.save('CollegeData.xlsx')"
   ]
  },
  {
   "cell_type": "code",
   "execution_count": null,
   "id": "95e3f853",
   "metadata": {},
   "outputs": [],
   "source": []
  }
 ],
 "metadata": {
  "kernelspec": {
   "display_name": "Python 3 (ipykernel)",
   "language": "python",
   "name": "python3"
  },
  "language_info": {
   "codemirror_mode": {
    "name": "ipython",
    "version": 3
   },
   "file_extension": ".py",
   "mimetype": "text/x-python",
   "name": "python",
   "nbconvert_exporter": "python",
   "pygments_lexer": "ipython3",
   "version": "3.10.4"
  }
 },
 "nbformat": 4,
 "nbformat_minor": 5
}
